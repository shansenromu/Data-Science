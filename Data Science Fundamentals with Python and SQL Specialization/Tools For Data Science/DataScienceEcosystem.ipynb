{
 "cells": [
  {
   "cell_type": "markdown",
   "id": "cde6f0bf",
   "metadata": {},
   "source": [
    "# Data Science Tools and Ecosystem"
   ]
  },
  {
   "cell_type": "markdown",
   "id": "a7f982c1",
   "metadata": {},
   "source": [
    "<p>In this notebook, Data Sceinece Tools and Ecosystems are summarized.</p>"
   ]
  },
  {
   "cell_type": "markdown",
   "id": "367c0edb",
   "metadata": {},
   "source": [
    "## Author\n",
    "SeanHansenRomu\n",
    "\n",
    "**Objectives:**\n",
    "<ul>\n",
    "    <li>List popular languages for Data Scientits</li>\n",
    "    <li>List commonly used Libraries for Data Scientis</li>\n",
    "    <li>Provide a table with a few Open Source Data Sceince Tools</li>\n",
    "    <li>Provide an example of running code in Python in the Jupyter Notebook environment</li>\n",
    "</ul>\n",
    "    `"
   ]
  },
  {
   "cell_type": "markdown",
   "id": "575a3075",
   "metadata": {},
   "source": [
    "Some of the popular languages that Data Scientis using are:\n",
    "<ol>\n",
    "    <li>Python</li>\n",
    "    <li>R</li>\n",
    "    <li>SQL</li>\n",
    "    <li>Java</li>\n",
    "    <li>Julia</li>\n",
    "    <li>Scala</li>\n",
    "    <li>C/C++</li>\n",
    "    <li>JavaScript</li>\n",
    "    <li>Swift</li>\n",
    "    <li>Go</li>\n",
    "</ol>"
   ]
  },
  {
   "cell_type": "markdown",
   "id": "d83c13b1",
   "metadata": {},
   "source": [
    "Some of the commonly used libraries use by Data Sciencitis include:\n",
    "<ol>\n",
    "    <li>TensorFlow (Python)</li>\n",
    "    <li>NumPy (Python)</li>\n",
    "    <li>SciPy(Python)</li>\n",
    "    <li>Pandas (Python)</li>\n",
    "    <li>Matplotlib (Python)</li>\n",
    "    <li>Keras (Python)</li>\n",
    "    <li>SciKit-Learn (Python)</li>\n",
    "    <li>PyTorch (Python)</li> \n",
    "    <li>ggplot2 (R)</li>\n",
    "    <li>ggmap (R)</li>\n",
    "    <li>caret (R)</li>\n",
    "    <li>dplyr and tidyr (R)</li>\n",
    "    \n",
    "</ol>\n",
    "    "
   ]
  },
  {
   "cell_type": "markdown",
   "id": "6e18efc5",
   "metadata": {},
   "source": [
    "|Data Science Tools|\n",
    "| ---------------- |\n",
    "| JupyterLab and Jupter Notebook |\n",
    "| Visual Studio Code (VS Code) |\n",
    "| Spyder |"
   ]
  },
  {
   "cell_type": "markdown",
   "id": "b56d1ecb",
   "metadata": {},
   "source": [
    "### Below are a few examples of evaluating arthmetic expressions in Python"
   ]
  },
  {
   "cell_type": "code",
   "execution_count": 1,
   "id": "ec85fe29",
   "metadata": {},
   "outputs": [
    {
     "data": {
      "text/plain": [
       "17"
      ]
     },
     "execution_count": 1,
     "metadata": {},
     "output_type": "execute_result"
    }
   ],
   "source": [
    "(3*4)+5"
   ]
  },
  {
   "cell_type": "code",
   "execution_count": 2,
   "id": "97f9c12f",
   "metadata": {},
   "outputs": [
    {
     "data": {
      "text/plain": [
       "'3.3333333333333335 hours'"
      ]
     },
     "execution_count": 2,
     "metadata": {},
     "output_type": "execute_result"
    }
   ],
   "source": [
    "# This will convert 200 minutes to hours by dividing by 60\n",
    "def convert(minutes):\n",
    "    m = minutes.split(\" \")\n",
    "    h = float(m[0])/60.\n",
    "    return( str(h) +\" hours\" )\n",
    "convert(\"200 minutes\")"
   ]
  },
  {
   "cell_type": "code",
   "execution_count": null,
   "id": "98db759d",
   "metadata": {},
   "outputs": [],
   "source": []
  }
 ],
 "metadata": {
  "kernelspec": {
   "display_name": "Python 3 (ipykernel)",
   "language": "python",
   "name": "python3"
  },
  "language_info": {
   "codemirror_mode": {
    "name": "ipython",
    "version": 3
   },
   "file_extension": ".py",
   "mimetype": "text/x-python",
   "name": "python",
   "nbconvert_exporter": "python",
   "pygments_lexer": "ipython3",
   "version": "3.11.5"
  }
 },
 "nbformat": 4,
 "nbformat_minor": 5
}
